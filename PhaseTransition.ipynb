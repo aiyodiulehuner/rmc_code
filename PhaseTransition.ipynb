{
 "metadata": {
  "name": ""
 },
 "nbformat": 3,
 "nbformat_minor": 0,
 "worksheets": [
  {
   "cells": [
    {
     "cell_type": "code",
     "collapsed": false,
     "input": [
      "import numpy as np\n",
      "import scipy.sparse as sp\n",
      "import scipy.linalg as la\n",
      "import sklearn\n",
      "np.random.seed(42)"
     ],
     "language": "python",
     "metadata": {},
     "outputs": [],
     "prompt_number": 1
    },
    {
     "cell_type": "code",
     "collapsed": false,
     "input": [
      "niter=1;\n",
      "siter={[100,100,5],[500,500,10],[1000,1000,20]}\n",
      "\n",
      "citer=[0.5,1,1.5,2,2.5,5];\n",
      "giter=[lambda a: a]\n",
      "for c in citer:\n",
      "    giter.append(lambda a,c=c: 1.0/(1+np.exp(-c*a)));\n",
      "\n",
      "\n",
      "f=[spearman_rho, kendall_tau, lambda x,y: la.norm(x-y)^2/length(x-y)];\n",
      "\n",
      "muiter=[0.01,0.05,0.1,0.2,0.5,0.7,1,5,10,20];\n",
      "probiter=range(0.05,0.95,0.05)\n",
      "\n",
      "resultSMC=np.zeros((len(giter), len(d1iter), len(probiter), len(muiter), len(f)));\n",
      "\n",
      "if __name__ == '__main__':\n",
      "    jobs=[];\n",
      "    multProc=0;\n",
      "    for n in range(niter):\n",
      "        for i in range(len(siter)):\n",
      "            d1,d2,r=siter[i];\n",
      "            if (multProc):\n",
      "               p=multiprocessing.Process(target=run_simulation_SMC,args=(d1,d2,r))     \n",
      "               jobs.append(p)\n",
      "               p.start()\n",
      "            else:\n",
      "               np.random.seed(42)\n",
      "               run_save(rk,s,i)\n",
      "\n",
      "        \n",
      "        run_simulation_SMC(d1,d2,r)\n",
      "        \n",
      "        \n",
      "        \n",
      "def run_simulation_SMC(d1,d2,r):\n",
      "        U=np.random.randn(d1,r);V=np.random.randn(d2,r);theta=U.dot(V.T); \n",
      "        theta=np.sqrt(d1*d2)*theta/la.norm(theta,'fro');\n",
      "\n",
      "        mu0=la.norm(theta,'nuc');\n",
      "        Omega=np.random.rand(d1,d2);\n",
      "        \n",
      "        for gi,g in enumerate(giter):\n",
      "            Y=theta.copy();\n",
      "            for j=range(d2):\n",
      "                Y[:,j]=g(theta[:,j]);\n",
      "\n",
      "            for pi,p in enumerate(probiter):\n",
      "                print('Size: %dX%d, rk:%d, p:%f, gi:%d' %(d1,d2,r,p,gi));\n",
      "                YOmega=sp.csc_matrix((Y(Omega<=p),(Omega<=p).nonzero),(d1,d2))\n",
      "                for m=1:length(muiter)\n",
      "                    mu=mu0*muiter(m);\n",
      "                    Ysmc,stat=smc(YOmega,mu);\n",
      "                    \n",
      "                    k=evalRanking(theta,Ysmc.U*Ysmc.V',f);k(3)=sqrt(k(3));\n",
      "                    fprintf('\\t ktau:%f, srho:%f, rmse:%f\\n', k(1),k(2),k(3));\n",
      "                    r(gi,i,pi,m,:)= k;\n",
      "                    %save(sprintf('results_smc.mat'),'resultSMC');\n",
      "                "
     ],
     "language": "python",
     "metadata": {},
     "outputs": []
    },
    {
     "cell_type": "code",
     "collapsed": false,
     "input": [
      "citer=[0.5,1,1.5,2,2.5,5];\n",
      "giter=[lambda a: a]\n",
      "for c in citer:\n",
      "    giter.append(lambda a,c=c: 1.0/(1+np.exp(-c*a)));"
     ],
     "language": "python",
     "metadata": {},
     "outputs": [],
     "prompt_number": 50
    },
    {
     "cell_type": "code",
     "collapsed": false,
     "input": [
      "g"
     ],
     "language": "python",
     "metadata": {},
     "outputs": [
      {
       "metadata": {},
       "output_type": "pyout",
       "prompt_number": 51,
       "text": [
        "[<function __main__.<lambda>>,\n",
        " <function __main__.<lambda>>,\n",
        " <function __main__.<lambda>>,\n",
        " <function __main__.<lambda>>,\n",
        " <function __main__.<lambda>>]"
       ]
      }
     ],
     "prompt_number": 51
    },
    {
     "cell_type": "code",
     "collapsed": false,
     "input": [
      "giter[2](0.7)"
     ],
     "language": "python",
     "metadata": {},
     "outputs": [
      {
       "metadata": {},
       "output_type": "pyout",
       "prompt_number": 52,
       "text": [
        "0.66818777216816616"
       ]
      }
     ],
     "prompt_number": 52
    },
    {
     "cell_type": "code",
     "collapsed": false,
     "input": [
      "2."
     ],
     "language": "python",
     "metadata": {},
     "outputs": [
      {
       "metadata": {},
       "output_type": "pyout",
       "prompt_number": 53,
       "text": [
        "2.0"
       ]
      }
     ],
     "prompt_number": 53
    },
    {
     "cell_type": "code",
     "collapsed": false,
     "input": [
      "b=0.000000005\n",
      "a=0"
     ],
     "language": "python",
     "metadata": {},
     "outputs": [],
     "prompt_number": 69
    },
    {
     "cell_type": "code",
     "collapsed": false,
     "input": [
      "giter[-1](a)-giter[-1](b)<0"
     ],
     "language": "python",
     "metadata": {},
     "outputs": [
      {
       "metadata": {},
       "output_type": "pyout",
       "prompt_number": 70,
       "text": [
        "True"
       ]
      }
     ],
     "prompt_number": 70
    },
    {
     "cell_type": "code",
     "collapsed": false,
     "input": [
      "import scipy.stats as st\n",
      "st.spearmanr([1,2,3,4],[1,1,1,1])"
     ],
     "language": "python",
     "metadata": {},
     "outputs": [
      {
       "output_type": "stream",
       "stream": "stderr",
       "text": [
        "/usr/local/lib/python2.7/dist-packages/numpy/lib/function_base.py:1957: RuntimeWarning: invalid value encountered in true_divide\n",
        "  return c / sqrt(multiply.outer(d, d))\n",
        "/usr/lib/python2.7/dist-packages/scipy/stats/distributions.py:1417: RuntimeWarning: invalid value encountered in greater\n",
        "  cond1 = (scale > 0) & (x > self.a) & (x < self.b)\n",
        "/usr/lib/python2.7/dist-packages/scipy/stats/distributions.py:1417: RuntimeWarning: invalid value encountered in less\n",
        "  cond1 = (scale > 0) & (x > self.a) & (x < self.b)\n",
        "/usr/lib/python2.7/dist-packages/scipy/stats/distributions.py:1418: RuntimeWarning: invalid value encountered in less_equal\n",
        "  cond2 = cond0 & (x <= self.a)\n"
       ]
      },
      {
       "metadata": {},
       "output_type": "pyout",
       "prompt_number": 76,
       "text": [
        "(nan, nan)"
       ]
      }
     ],
     "prompt_number": 76
    },
    {
     "cell_type": "code",
     "collapsed": false,
     "input": [
      "siter=[[100,100,5],[500,500,10],[1000,1000,20]]"
     ],
     "language": "python",
     "metadata": {},
     "outputs": [],
     "prompt_number": 78
    },
    {
     "cell_type": "code",
     "collapsed": false,
     "input": [
      "d1,d2,d3=siter[0]"
     ],
     "language": "python",
     "metadata": {},
     "outputs": [],
     "prompt_number": 79
    },
    {
     "cell_type": "code",
     "collapsed": false,
     "input": [
      "d1\n"
     ],
     "language": "python",
     "metadata": {},
     "outputs": [
      {
       "metadata": {},
       "output_type": "pyout",
       "prompt_number": 80,
       "text": [
        "100"
       ]
      }
     ],
     "prompt_number": 80
    },
    {
     "cell_type": "code",
     "collapsed": false,
     "input": [
      "d2"
     ],
     "language": "python",
     "metadata": {},
     "outputs": [
      {
       "metadata": {},
       "output_type": "pyout",
       "prompt_number": 81,
       "text": [
        "100"
       ]
      }
     ],
     "prompt_number": 81
    },
    {
     "cell_type": "code",
     "collapsed": false,
     "input": [
      "d3"
     ],
     "language": "python",
     "metadata": {},
     "outputs": [
      {
       "metadata": {},
       "output_type": "pyout",
       "prompt_number": 82,
       "text": [
        "5"
       ]
      }
     ],
     "prompt_number": 82
    },
    {
     "cell_type": "code",
     "collapsed": false,
     "input": [
      "r=d3"
     ],
     "language": "python",
     "metadata": {},
     "outputs": [],
     "prompt_number": 83
    },
    {
     "cell_type": "code",
     "collapsed": false,
     "input": [
      "U=np.random.randn(d1,r);V=np.random.randn(d2,r);theta=U.dot(V.T); "
     ],
     "language": "python",
     "metadata": {},
     "outputs": [],
     "prompt_number": 86
    },
    {
     "cell_type": "code",
     "collapsed": false,
     "input": [
      "theta.shape"
     ],
     "language": "python",
     "metadata": {},
     "outputs": [
      {
       "metadata": {},
       "output_type": "pyout",
       "prompt_number": 87,
       "text": [
        "(100, 100)"
       ]
      }
     ],
     "prompt_number": 87
    },
    {
     "cell_type": "code",
     "collapsed": false,
     "input": [
      "Omega=np.random.rand(theta.shape[0],theta.shape[1]);"
     ],
     "language": "python",
     "metadata": {},
     "outputs": [],
     "prompt_number": 90
    },
    {
     "cell_type": "code",
     "collapsed": false,
     "input": [
      "str(giter[1])"
     ],
     "language": "python",
     "metadata": {},
     "outputs": [
      {
       "metadata": {},
       "output_type": "pyout",
       "prompt_number": 92,
       "text": [
        "'<function <lambda> at 0x7f3e48b84a28>'"
       ]
      }
     ],
     "prompt_number": 92
    },
    {
     "cell_type": "code",
     "collapsed": false,
     "input": [],
     "language": "python",
     "metadata": {},
     "outputs": []
    }
   ],
   "metadata": {}
  }
 ]
}
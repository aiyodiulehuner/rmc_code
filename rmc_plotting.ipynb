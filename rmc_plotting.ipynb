{
 "cells": [
  {
   "cell_type": "code",
   "execution_count": 3,
   "metadata": {
    "collapsed": false
   },
   "outputs": [],
   "source": [
    "import numpy as np\n",
    "import seaborn as sns\n",
    "%matplotlib inline"
   ]
  },
  {
   "cell_type": "code",
   "execution_count": 4,
   "metadata": {
    "collapsed": true
   },
   "outputs": [],
   "source": [
    "probIter=np.array([0.2,0.4,0.6,0.8])\n"
   ]
  },
  {
   "cell_type": "code",
   "execution_count": null,
   "metadata": {
    "collapsed": true
   },
   "outputs": [],
   "source": [
    "movielens eps 1e-3 np blocks\n",
    "\n",
    "0.2218    0.1813    0.7490   14.1243    0.6531\n",
    "    0.2411    0.1961    0.7564   14.1228    0.6527\n",
    "    0.2273    0.1855    0.7501   14.1244    0.6510\n",
    "    0.2403    0.1954    0.7556   14.1229    0.6520\n",
    "    0.2249    0.1837    0.7494   14.1244    0.6497\n",
    "    0.2406    0.1954    0.7558   14.1229    0.6518\n",
    "    0.2252    0.1839    0.7495   14.1244    0.6497\n",
    "    0.2406    0.1954    0.7558   14.1229    0.6518\n",
    "    0.2253    0.1839    0.7495   14.1244    0.6497\n",
    "    0.2406    0.1954    0.7558   14.1229    0.6518\n",
    "    0.2607    0.2122    0.7619   14.1213    0.6588\n",
    "    0.2730    0.2230    0.7673   14.1191    0.6658\n",
    "    0.2823    0.2307    0.7696   14.1159    0.6677\n",
    "    0.2726    0.2222    0.7658   14.1135    0.6635\n",
    "    0.2726    0.2222    0.7658   14.1135    0.6635\n",
    "    0.2726    0.2222    0.7658   14.1135    0.6635\n",
    "    0.2726    0.2222    0.7658   14.1135    0.6635\n"
   ]
  },
  {
   "cell_type": "code",
   "execution_count": 5,
   "metadata": {
    "collapsed": false
   },
   "outputs": [
    {
     "ename": "SyntaxError",
     "evalue": "invalid syntax (<ipython-input-5-e014333bf564>, line 1)",
     "output_type": "error",
     "traceback": [
      "\u001b[1;36m  File \u001b[1;32m\"<ipython-input-5-e014333bf564>\"\u001b[1;36m, line \u001b[1;32m1\u001b[0m\n\u001b[1;33m    0.2823    0.2307    0.7696   14.1159    0.6677\u001b[0m\n\u001b[1;37m                   ^\u001b[0m\n\u001b[1;31mSyntaxError\u001b[0m\u001b[1;31m:\u001b[0m invalid syntax\n"
     ]
    }
   ],
   "source": [
    "0.2823    0.2307    0.7696   14.1159    0.6677"
   ]
  },
  {
   "cell_type": "code",
   "execution_count": null,
   "metadata": {
    "collapsed": true
   },
   "outputs": [],
   "source": [
    "0.2782    0.2291    0.7693   14.1185    0.6705\n"
   ]
  },
  {
   "cell_type": "code",
   "execution_count": null,
   "metadata": {
    "collapsed": true
   },
   "outputs": [],
   "source": [
    "AP,1e-2,noblk\n",
    "0.2899    0.2363    0.7712   14.1134    0.6688"
   ]
  },
  {
   "cell_type": "code",
   "execution_count": null,
   "metadata": {
    "collapsed": true
   },
   "outputs": [],
   "source": [
    "AP, blk, 1e-2 0.3598    0.2942    0.7955   14.1180    0.6898\n",
    "AP, blk, 1e-1 0.3734    0.3068    0.7995   14.0505    0.6913"
   ]
  },
  {
   "cell_type": "code",
   "execution_count": null,
   "metadata": {
    "collapsed": true
   },
   "outputs": [],
   "source": [
    "RMC=np.array([[0.3734,0.7995,0.6913],[0.3982,0.8024,0.7097]]\n",
    "SMC=np.array([[0.3734,0.7995,0.6913],[0.3982,0.8024,0.7097]]\n",
    "COFI=\n"
   ]
  }
 ],
 "metadata": {
  "kernelspec": {
   "display_name": "Python 2",
   "language": "python",
   "name": "python2"
  },
  "language_info": {
   "codemirror_mode": {
    "name": "ipython",
    "version": 2
   },
   "file_extension": ".py",
   "mimetype": "text/x-python",
   "name": "python",
   "nbconvert_exporter": "python",
   "pygments_lexer": "ipython2",
   "version": "2.7.11"
  }
 },
 "nbformat": 4,
 "nbformat_minor": 0
}
